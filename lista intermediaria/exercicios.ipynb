{
 "cells": [
  {
   "cell_type": "code",
   "execution_count": 1,
   "metadata": {},
   "outputs": [
    {
     "name": "stdout",
     "output_type": "stream",
     "text": [
      "criança\n"
     ]
    }
   ],
   "source": [
    "# clasificação de idade\n",
    "idade = int(input('digite sua idade: '))\n",
    "if idade < 13:\n",
    "    print('criança')\n",
    "elif idade > 12 and idade < 18:\n",
    "    print('adolescente')\n",
    "elif idade > 17 and idade < 65:\n",
    "    print('adulto')\n",
    "elif idade >= 65:\n",
    "    print('idoso')"
   ]
  },
  {
   "cell_type": "code",
   "execution_count": 6,
   "metadata": {},
   "outputs": [
    {
     "name": "stdout",
     "output_type": "stream",
     "text": [
      "5.0 / 5.0 é igual a 1.0\n"
     ]
    }
   ],
   "source": [
    "# calculadora simples\n",
    "num1 = float(input('digite um numero: '))\n",
    "num2 = float(input('digite outro numero: '))\n",
    "operacao = str(input('digite a operação desejada: (+ , - , * , / )'))\n",
    "if operacao == '+':\n",
    "    print(f'{num1} {operacao} {num2} é igual a {num1 + num2}')\n",
    "elif operacao == '-':\n",
    "    print(f'{num1} {operacao} {num2} é igual a {num1-num2}')\n",
    "elif operacao == '*':\n",
    "    print(f'{num1} {operacao} {num2} é igual a {num1*num2}')\n",
    "elif operacao == '/':\n",
    "    print(f'{num1} {operacao} {num2} é igual a {num1/num2}')"
   ]
  }
 ],
 "metadata": {
  "kernelspec": {
   "display_name": "Python 3",
   "language": "python",
   "name": "python3"
  },
  "language_info": {
   "codemirror_mode": {
    "name": "ipython",
    "version": 3
   },
   "file_extension": ".py",
   "mimetype": "text/x-python",
   "name": "python",
   "nbconvert_exporter": "python",
   "pygments_lexer": "ipython3",
   "version": "3.12.3"
  }
 },
 "nbformat": 4,
 "nbformat_minor": 2
}
